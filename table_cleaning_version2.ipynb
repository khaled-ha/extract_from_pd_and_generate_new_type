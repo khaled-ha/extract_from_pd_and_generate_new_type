{
 "cells": [
  {
   "cell_type": "code",
   "execution_count": 15,
   "metadata": {},
   "outputs": [
    {
     "name": "stdout",
     "output_type": "stream",
     "text": [
      "['M34 - 2016-05.pdf', 'M34 - 2016-02.pdf', 'M34 - 2016-04.pdf']\n"
     ]
    }
   ],
   "source": [
    "import tabula\n",
    "import re\n",
    "import glob\n",
    "import os \n",
    "from PIL import Image \n",
    "import pytesseract\n",
    "import sys \n",
    "from pdf2image import convert_from_path \n",
    "from PyPDF2 import PdfFileReader\n",
    "import pandas as pd\n",
    "\n",
    "pdf_list = [f for f in glob.glob( '*.pdf')]\n",
    "print(pdf_list)"
   ]
  },
  {
   "cell_type": "code",
   "execution_count": 16,
   "metadata": {},
   "outputs": [],
   "source": [
    "def handle_first_rows(df):\n",
    "    found = False\n",
    "    start = 0\n",
    "    end = 0\n",
    "    #print(df.iloc[0:5])\n",
    "    for (x,y) in df.iterrows():\n",
    "        for t in y :\n",
    "            if type(t) == str :\n",
    "                if len(re.findall(r\"[\\d]{1,2}/[\\d]{1,2}/[\\d]{4}\", t)) != 0  :\n",
    "                    end = x\n",
    "                    #print(start,end)\n",
    "                    initial = df.iloc[end]['Descrizione attività']\n",
    "                    data = ''\n",
    "                    for i in range(start,end):\n",
    "                        #print(df.iloc[i]['Descrizione attività'])\n",
    "                        #print(y['Descrizione attività'])\n",
    "                        #print(df.iloc[end])\n",
    "                        #df.iloc[end].set_value('Descrizione attività', df.iloc[i]['Descrizione attività'] + initial)\n",
    "                        #print(y['Descrizione attività'] +' '+ str(df.iloc[i]['Descrizione attività']))\n",
    "                        data +=  str(df.iloc[i]['Descrizione attività'])\n",
    "                    print(data)\n",
    "                    dfc = df.copy()\n",
    "                    df.loc[:end]['Descrizione attività'] = data+' '+ y['Descrizione attività']  \n",
    "                    found = True\n",
    "        if found ==True:\n",
    "            break\n",
    "    #print(df.iloc[end]['Descrizione attività'])\n",
    "    print('this isthe first date found ',end)\n",
    "    return end\n",
    "\n",
    "\n",
    "def handle_main_rows(df,start,end,pos):\n",
    "    for (x,y) in df.iterrows():\n",
    "        if x >=pos:\n",
    "            for t in y :\n",
    "                if type(t) == str :\n",
    "                    if len(re.findall(r\"[\\d]{1,2}/[\\d]{1,2}/[\\d]{4}\", t)) != 0  :\n",
    "                        #print(re.findall(r\"[\\d]{1,2}/[\\d]{1,2}/[\\d]{4}\", t),x)\n",
    "                        if start == end:\n",
    "                            end = x\n",
    "                            #print(start,end)\n",
    "                            data = ''\n",
    "                            for i in range(start+1,end):\n",
    "                            #print(i)\n",
    "                                data +=  str(df.iloc[i]['Descrizione attività'])\n",
    "                        #print(data)\n",
    "                        #print(df.iloc[start]['Descrizione attività']+' '+data )\n",
    "                            data_to_save = df.iloc[start]['Descrizione attività']+' '+data \n",
    "                            #print('data that will be written :',data_to_save)\n",
    "                        \n",
    "                            #print('this will be replaced',df.loc[start]['Descrizione attività'],'++++')\n",
    "                            \n",
    "                            df.loc[start,'Descrizione attività']= data_to_save\n",
    "                        else :\n",
    "                            start = end\n",
    "                            end = x\n",
    "                            #print(\"strat:\",start,\"end:\",end)\n",
    "                            data = ''\n",
    "                            for i in range(start+1,end):\n",
    "                            #print(i)\n",
    "                                data +=  str(df.iloc[i]['Descrizione attività'])\n",
    "                        #print(data)\n",
    "                        #print(df.iloc[start]['Descrizione attività']+' '+data )\n",
    "                            data_to_save = df.iloc[start]['Descrizione attività']+' '+data \n",
    "                            #print('data that will be written :',data_to_save)\n",
    "                        \n",
    "                            #print('this will be replaced',df.loc[start]['Descrizione attività'],'++++')\n",
    "                            \n",
    "                            df.loc[start,'Descrizione attività']= data_to_save\n",
    "            last_date = end\n",
    "    #print(df)\n",
    "    return end\n",
    "\n",
    "\n",
    "            \n",
    "\n",
    "def handle_last_rows(df,last_date):\n",
    "    data = \" \"\n",
    "    for x,y in df.iloc[last_date:len(df)-1].iterrows():\n",
    "        if x > last_date :\n",
    "            data += str(df.iloc[x]['Descrizione attività'])\n",
    "    #print(df.loc[last_date,'Descrizione attività'] +\" \"+data)\n",
    "    data = df.loc[last_date,'Descrizione attività'] +\" \"+data\n",
    "    df.loc[last_date,'Descrizione attività'] = data"
   ]
  },
  {
   "cell_type": "code",
   "execution_count": 22,
   "metadata": {},
   "outputs": [
    {
     "name": "stdout",
     "output_type": "stream",
     "text": [
      "Risorsa Umana: Gagliardelli Ugo\n",
      "\n",
      " Gagliardelli Ugo\n",
      "\n",
      "Attività di macro classificazione delle possibili condizioni di\n",
      "this isthe first date found  1\n"
     ]
    },
    {
     "name": "stderr",
     "output_type": "stream",
     "text": [
      "/usr/lib/python3.7/site-packages/ipykernel_launcher.py:23: SettingWithCopyWarning: \n",
      "A value is trying to be set on a copy of a slice from a DataFrame.\n",
      "Try using .loc[row_indexer,col_indexer] = value instead\n",
      "\n",
      "See the caveats in the documentation: https://pandas.pydata.org/pandas-docs/stable/user_guide/indexing.html#returning-a-view-versus-a-copy\n"
     ]
    },
    {
     "name": "stdout",
     "output_type": "stream",
     "text": [
      "Risorsa Umana: Gagliardelli Ugo\n",
      "\n",
      " Gagliardelli Ugo\n",
      "\n",
      "\n",
      "this isthe first date found  0\n"
     ]
    },
    {
     "name": "stderr",
     "output_type": "stream",
     "text": [
      "/usr/lib/python3.7/site-packages/ipykernel_launcher.py:23: SettingWithCopyWarning: \n",
      "A value is trying to be set on a copy of a slice from a DataFrame.\n",
      "Try using .loc[row_indexer,col_indexer] = value instead\n",
      "\n",
      "See the caveats in the documentation: https://pandas.pydata.org/pandas-docs/stable/user_guide/indexing.html#returning-a-view-versus-a-copy\n"
     ]
    },
    {
     "name": "stdout",
     "output_type": "stream",
     "text": [
      "Risorsa Umana: Gagliardelli Ugo\n",
      "\n",
      " Gagliardelli Ugo\n",
      "\n",
      "\n",
      "this isthe first date found  0\n"
     ]
    },
    {
     "name": "stderr",
     "output_type": "stream",
     "text": [
      "/usr/lib/python3.7/site-packages/ipykernel_launcher.py:23: SettingWithCopyWarning: \n",
      "A value is trying to be set on a copy of a slice from a DataFrame.\n",
      "Try using .loc[row_indexer,col_indexer] = value instead\n",
      "\n",
      "See the caveats in the documentation: https://pandas.pydata.org/pandas-docs/stable/user_guide/indexing.html#returning-a-view-versus-a-copy\n"
     ]
    }
   ],
   "source": [
    "def extract_risora_umana(pdf_name):\n",
    "    \n",
    "    pages = convert_from_path(pdf_name, 500) # Store all the pages of the PDF in a variable  \n",
    "    image_counter = 1   # Counter to store images of each page of PDF to image\n",
    "    name = pdf_name.split('.')[0]\n",
    "    outfile = str(name)+\".txt\" # prepare text file name \n",
    "    f = open(outfile, \"a\") # open the file to write into it \n",
    "\n",
    "    for page in pages: # Iterate through all the pages stored above \n",
    "      # For each page, filename will be:  \n",
    "    # PDF page 1 -> page_1.jpg \n",
    "    # PDF page 2 -> page_2.jpg \n",
    "    # PDF page 3 -> page_3.jpg \n",
    "    # .... \n",
    "    # PDF page n -> page_n.jpg \n",
    "        filename = \"page_\"+str(image_counter)+\".jpg\" # Declaring name for each page of PDF as JPG\n",
    "      \n",
    "    # Save the image of the page in system \n",
    "        page.save(filename, 'JPEG') \n",
    "  \n",
    "    # Increment the counter to update filename \n",
    "        image_counter = image_counter + 1\n",
    "    # convert the image into text \n",
    "        text = str(((pytesseract.image_to_string(Image.open(filename)))))\n",
    "        os.remove(filename)\n",
    "    # write the text into a file in the HDD\n",
    "        f.write(text) \n",
    "    f.close()\n",
    "    risora_umana = \" \"\n",
    "    with open(outfile,'rb') as f :\n",
    "        lines = f.readlines()\n",
    "        found = False\n",
    "        for line in lines :\n",
    "            #print(line.decode('utf-8'))\n",
    "            if 'Risorsa Umana' in line.decode('utf-8') :\n",
    "                #risora_umana = str(line)\n",
    "                print(line.decode('utf-8'))\n",
    "                risora_umana = line.decode('utf-8')\n",
    "                break\n",
    "        \n",
    "        print(risora_umana[risora_umana.find(':')+1:])\n",
    "    os.remove(outfile)\n",
    "    return risora_umana[risora_umana.find(':')+1:]\n",
    "\n",
    "\n",
    "all_data = pd.DataFrame()\n",
    "for pdf in sorted(pdf_list) :\n",
    "    risora_umana = extract_risora_umana(pdf)\n",
    "    start = 0\n",
    "    end = 0\n",
    "    pos = 1\n",
    "    last_date = 0\n",
    "    pdf_name = pdf.split('.')[0]\n",
    "    tables = tabula.read_pdf(pdf, pages = \"all\", multiple_tables = True)\n",
    "    dfc = tables[0].copy()\n",
    "    if len(tables) != 0 :\n",
    "        df = tables[0]\n",
    "        df['Risora Umana'] = risora_umana\n",
    "        pos = handle_first_rows(df)\n",
    "        last_date = handle_main_rows(df,start,end,pos)\n",
    "        handle_last_rows(df,last_date)\n",
    "        last_row = df.iloc[len(df)-1]\n",
    "        df = df.dropna()\n",
    "        #df = df.append([last_row],ignore_index=True)\n",
    "        df.to_csv(\"{0}.csv\".format(pdf_name), sep='\\t', encoding='utf-8')\n",
    "        all_data = all_data.append(df,ignore_index=True)\n",
    "\n",
    "all_data.to_csv(\"all_data.csv\", sep='\\t', encoding='utf-8')\n",
    "        "
   ]
  },
  {
   "cell_type": "code",
   "execution_count": null,
   "metadata": {},
   "outputs": [],
   "source": []
  },
  {
   "cell_type": "code",
   "execution_count": null,
   "metadata": {},
   "outputs": [],
   "source": []
  }
 ],
 "metadata": {
  "kernelspec": {
   "display_name": "Python 3",
   "language": "python",
   "name": "python3"
  },
  "language_info": {
   "codemirror_mode": {
    "name": "ipython",
    "version": 3
   },
   "file_extension": ".py",
   "mimetype": "text/x-python",
   "name": "python",
   "nbconvert_exporter": "python",
   "pygments_lexer": "ipython3",
   "version": "3.7.3"
  }
 },
 "nbformat": 4,
 "nbformat_minor": 2
}
